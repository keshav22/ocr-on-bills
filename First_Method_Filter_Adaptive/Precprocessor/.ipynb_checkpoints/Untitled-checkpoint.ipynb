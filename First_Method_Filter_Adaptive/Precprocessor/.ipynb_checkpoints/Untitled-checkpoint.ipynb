{
 "cells": [
  {
   "cell_type": "code",
   "execution_count": 5,
   "metadata": {},
   "outputs": [
    {
     "ename": "ValueError",
     "evalue": "max() arg is an empty sequence",
     "output_type": "error",
     "traceback": [
      "\u001b[1;31m---------------------------------------------------------------------------\u001b[0m",
      "\u001b[1;31mValueError\u001b[0m                                Traceback (most recent call last)",
      "\u001b[1;32m<ipython-input-5-c21c049e6222>\u001b[0m in \u001b[0;36m<module>\u001b[1;34m()\u001b[0m\n\u001b[0;32m     27\u001b[0m \u001b[0m_\u001b[0m\u001b[1;33m,\u001b[0m \u001b[0mthreshold_op\u001b[0m \u001b[1;33m=\u001b[0m \u001b[0mcv2\u001b[0m\u001b[1;33m.\u001b[0m\u001b[0mthreshold\u001b[0m\u001b[1;33m(\u001b[0m\u001b[0mgray_op\u001b[0m\u001b[1;33m,\u001b[0m \u001b[1;36m150\u001b[0m\u001b[1;33m,\u001b[0m \u001b[1;36m255\u001b[0m\u001b[1;33m,\u001b[0m \u001b[0mcv2\u001b[0m\u001b[1;33m.\u001b[0m\u001b[0mTHRESH_BINARY_INV\u001b[0m\u001b[1;33m)\u001b[0m\u001b[1;33m\u001b[0m\u001b[0m\n\u001b[0;32m     28\u001b[0m \u001b[0mcontours_op\u001b[0m\u001b[1;33m,\u001b[0m \u001b[0mhierarchy_op\u001b[0m \u001b[1;33m=\u001b[0m \u001b[0mcv2\u001b[0m\u001b[1;33m.\u001b[0m\u001b[0mfindContours\u001b[0m\u001b[1;33m(\u001b[0m\u001b[0mthreshold_op\u001b[0m\u001b[1;33m,\u001b[0m \u001b[0mcv2\u001b[0m\u001b[1;33m.\u001b[0m\u001b[0mRETR_TREE\u001b[0m\u001b[1;33m,\u001b[0m\u001b[0mcv2\u001b[0m\u001b[1;33m.\u001b[0m\u001b[0mCHAIN_APPROX_NONE\u001b[0m\u001b[1;33m)\u001b[0m\u001b[1;33m\u001b[0m\u001b[0m\n\u001b[1;32m---> 29\u001b[1;33m \u001b[0mcnt\u001b[0m \u001b[1;33m=\u001b[0m \u001b[0mmax\u001b[0m\u001b[1;33m(\u001b[0m\u001b[0mcontours_op\u001b[0m\u001b[1;33m,\u001b[0m \u001b[0mkey\u001b[0m\u001b[1;33m=\u001b[0m\u001b[0mcv2\u001b[0m\u001b[1;33m.\u001b[0m\u001b[0mcontourArea\u001b[0m\u001b[1;33m)\u001b[0m\u001b[1;33m\u001b[0m\u001b[0m\n\u001b[0m\u001b[0;32m     30\u001b[0m \u001b[1;33m\u001b[0m\u001b[0m\n\u001b[0;32m     31\u001b[0m \u001b[1;31m# Create rotated rectangle to get the angle of rotation and the 4 points of the rectangle.\u001b[0m\u001b[1;33m\u001b[0m\u001b[1;33m\u001b[0m\u001b[0m\n",
      "\u001b[1;31mValueError\u001b[0m: max() arg is an empty sequence"
     ]
    }
   ],
   "source": [
    "import cv2\n",
    "import numpy as np\n",
    "from PIL import Image\n",
    "from PIL import ImageOps\n",
    "import os\n",
    "# Read image and search for contours. \n",
    "img = cv2.imread('ino.jpg')\n",
    "#cv2.imshow('image',img)\n",
    "gray = cv2.cvtColor(img, cv2.COLOR_BGR2GRAY)\n",
    "_, threshold = cv2.threshold(gray, 150, 255, cv2.THRESH_BINARY)\n",
    "contours, hierarchy = cv2.findContours(threshold,cv2.RETR_TREE,cv2.CHAIN_APPROX_NONE)\n",
    "\n",
    "# Create first mask used for rotation.\n",
    "mask = np.ones(img.shape, np.uint8)*255\n",
    "\n",
    "# Draw contours on the mask with size and ratio of borders for threshold.\n",
    "for cnt in contours:\n",
    "    size = cv2.contourArea(cnt)\n",
    "    x,y,w,h = cv2.boundingRect(cnt)\n",
    "    if 10000 > size > 500 and w*2.5 > h:\n",
    "        cv2.drawContours(mask, [cnt], -1, (0,0,0), -1)\n",
    "\n",
    "# Connect neighbour contours and select the biggest one (text).\n",
    "kernel = np.ones((50,50),np.uint8)\n",
    "opening = cv2.morphologyEx(mask, cv2.MORPH_OPEN, kernel)\n",
    "gray_op = cv2.cvtColor(opening, cv2.COLOR_BGR2GRAY)\n",
    "_, threshold_op = cv2.threshold(gray_op, 150, 255, cv2.THRESH_BINARY_INV)\n",
    "contours_op, hierarchy_op = cv2.findContours(threshold_op, cv2.RETR_TREE,cv2.CHAIN_APPROX_NONE)\n",
    "cnt = max(contours_op, key=cv2.contourArea)\n",
    "\n",
    "# Create rotated rectangle to get the angle of rotation and the 4 points of the rectangle.\n",
    "_, _, angle = rect = cv2.minAreaRect(cnt)\n",
    "(h,w) = img.shape[:2]\n",
    "(center) = (w//2,h//2)\n",
    "\n",
    "# Rotate the image.\n",
    "M = cv2.getRotationMatrix2D(center, angle, 1.0)\n",
    "rotated = cv2.warpAffine(img, M, (int(w),int(h)), flags=cv2.INTER_CUBIC, borderMode=cv2.BORDER_CONSTANT)\n",
    "\n",
    "# Create bounding box for rotated text (use old points of rotated rectangle).\n",
    "box = cv2.boxPoints(rect)\n",
    "a, b, c, d = box = np.int0(box)\n",
    "bound =[]\n",
    "bound.append(a)\n",
    "bound.append(b)\n",
    "bound.append(c)\n",
    "bound.append(d)\n",
    "bound = np.array(bound)\n",
    "(x1, y1) = (bound[:,0].min(), bound[:,1].min())\n",
    "(x2, y2) = (bound[:,0].max(), bound[:,1].max())\n",
    "cv2.drawContours(img,[box],0,(0,0,255),2)\n",
    "\n",
    "# Crop the image and create new mask for the final image.\n",
    "rotated = rotated[y1:y2, x1:x2]\n",
    "mask_final = np.ones(rotated.shape, np.uint8)*255\n",
    "\n",
    "# Remove noise from the final image.\n",
    "gray_r = cv2.cvtColor(rotated, cv2.COLOR_BGR2GRAY)\n",
    "_, threshold_r = cv2.threshold(gray_r, 150, 255, cv2.THRESH_BINARY_INV)\n",
    "contours, hierarchy = cv2.findContours(threshold_r,cv2.RETR_TREE,cv2.CHAIN_APPROX_NONE)\n",
    "for cnt in contours:\n",
    "    size = cv2.contourArea(cnt)\n",
    "    if size < 500:\n",
    "        cv2.drawContours(threshold_r, [cnt], -1, (0,0,0), -1)\n",
    "\n",
    "# Invert black and white.\n",
    "final_image = cv2.bitwise_not(threshold_r)\n",
    "\n",
    "# Display results.\n",
    "save_path = os.path.join(\"./\",\"output1.jpg\")\n",
    "cv2.imwrite(save_path, final_image)\n",
    "\n",
    "#cv2.imshow('final', final_image)\n",
    "#cv2.imshow('rotated', rotated)"
   ]
  },
  {
   "cell_type": "code",
   "execution_count": null,
   "metadata": {},
   "outputs": [],
   "source": []
  }
 ],
 "metadata": {
  "kernelspec": {
   "display_name": "Python 3",
   "language": "python",
   "name": "python3"
  },
  "language_info": {
   "codemirror_mode": {
    "name": "ipython",
    "version": 3
   },
   "file_extension": ".py",
   "mimetype": "text/x-python",
   "name": "python",
   "nbconvert_exporter": "python",
   "pygments_lexer": "ipython3",
   "version": "3.6.4"
  }
 },
 "nbformat": 4,
 "nbformat_minor": 2
}
